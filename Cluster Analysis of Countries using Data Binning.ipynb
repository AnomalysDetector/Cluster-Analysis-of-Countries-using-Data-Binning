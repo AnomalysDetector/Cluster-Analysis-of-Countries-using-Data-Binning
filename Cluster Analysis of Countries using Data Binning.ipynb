{
 "cells": [
  {
   "cell_type": "code",
   "execution_count": 1,
   "metadata": {},
   "outputs": [
    {
     "name": "stdout",
     "output_type": "stream",
     "text": [
      "(122, 6)\n"
     ]
    },
    {
     "data": {
      "text/html": [
       "<div>\n",
       "<style scoped>\n",
       "    .dataframe tbody tr th:only-of-type {\n",
       "        vertical-align: middle;\n",
       "    }\n",
       "\n",
       "    .dataframe tbody tr th {\n",
       "        vertical-align: top;\n",
       "    }\n",
       "\n",
       "    .dataframe thead th {\n",
       "        text-align: right;\n",
       "    }\n",
       "</style>\n",
       "<table border=\"1\" class=\"dataframe\">\n",
       "  <thead>\n",
       "    <tr style=\"text-align: right;\">\n",
       "      <th></th>\n",
       "      <th>Country</th>\n",
       "      <th>Abbrev</th>\n",
       "      <th>Corruption</th>\n",
       "      <th>Peace</th>\n",
       "      <th>Legal</th>\n",
       "      <th>GDP Growth</th>\n",
       "    </tr>\n",
       "  </thead>\n",
       "  <tbody>\n",
       "    <tr>\n",
       "      <th>0</th>\n",
       "      <td>Albania</td>\n",
       "      <td>AL</td>\n",
       "      <td>39</td>\n",
       "      <td>1.867</td>\n",
       "      <td>3.822</td>\n",
       "      <td>3.403</td>\n",
       "    </tr>\n",
       "    <tr>\n",
       "      <th>1</th>\n",
       "      <td>Algeria</td>\n",
       "      <td>DZ</td>\n",
       "      <td>34</td>\n",
       "      <td>2.213</td>\n",
       "      <td>4.160</td>\n",
       "      <td>4.202</td>\n",
       "    </tr>\n",
       "    <tr>\n",
       "      <th>2</th>\n",
       "      <td>Argentina</td>\n",
       "      <td>AR</td>\n",
       "      <td>36</td>\n",
       "      <td>1.957</td>\n",
       "      <td>4.568</td>\n",
       "      <td>-2.298</td>\n",
       "    </tr>\n",
       "    <tr>\n",
       "      <th>3</th>\n",
       "      <td>Armenia</td>\n",
       "      <td>AM</td>\n",
       "      <td>33</td>\n",
       "      <td>2.218</td>\n",
       "      <td>4.126</td>\n",
       "      <td>0.208</td>\n",
       "    </tr>\n",
       "    <tr>\n",
       "      <th>4</th>\n",
       "      <td>Australia</td>\n",
       "      <td>AU</td>\n",
       "      <td>79</td>\n",
       "      <td>1.465</td>\n",
       "      <td>8.244</td>\n",
       "      <td>2.471</td>\n",
       "    </tr>\n",
       "  </tbody>\n",
       "</table>\n",
       "</div>"
      ],
      "text/plain": [
       "     Country Abbrev  Corruption  Peace  Legal  GDP Growth\n",
       "0    Albania     AL          39  1.867  3.822       3.403\n",
       "1    Algeria     DZ          34  2.213  4.160       4.202\n",
       "2  Argentina     AR          36  1.957  4.568      -2.298\n",
       "3    Armenia     AM          33  2.218  4.126       0.208\n",
       "4  Australia     AU          79  1.465  8.244       2.471"
      ]
     },
     "execution_count": 1,
     "metadata": {},
     "output_type": "execute_result"
    }
   ],
   "source": [
    "# loading packages\n",
    "import os\n",
    "import pandas as pd\n",
    "import numpy as np\n",
    "sf = pd.read_csv('Country_Example.csv')\n",
    "print(sf.shape)\n",
    "sf.head()"
   ]
  },
  {
   "cell_type": "code",
   "execution_count": 2,
   "metadata": {},
   "outputs": [
    {
     "data": {
      "text/plain": [
       "122"
      ]
     },
     "execution_count": 2,
     "metadata": {},
     "output_type": "execute_result"
    }
   ],
   "source": [
    "len(sf['Country'].value_counts())"
   ]
  },
  {
   "cell_type": "code",
   "execution_count": 3,
   "metadata": {},
   "outputs": [],
   "source": [
    "pec = sf.groupby('Country').mean()['Peace']\n",
    "gdp = sf.groupby('Country').mean()['GDP Growth']\n",
    "cluster = pd.concat([pec, gdp], axis=1)\n",
    "cluster['Country'] = cluster.index"
   ]
  },
  {
   "cell_type": "code",
   "execution_count": 4,
   "metadata": {},
   "outputs": [],
   "source": [
    "cluster.columns = ['pec', 'GDP Growth','Country']"
   ]
  },
  {
   "cell_type": "code",
   "execution_count": 5,
   "metadata": {},
   "outputs": [
    {
     "data": {
      "text/html": [
       "<div>\n",
       "<style scoped>\n",
       "    .dataframe tbody tr th:only-of-type {\n",
       "        vertical-align: middle;\n",
       "    }\n",
       "\n",
       "    .dataframe tbody tr th {\n",
       "        vertical-align: top;\n",
       "    }\n",
       "\n",
       "    .dataframe thead th {\n",
       "        text-align: right;\n",
       "    }\n",
       "</style>\n",
       "<table border=\"1\" class=\"dataframe\">\n",
       "  <thead>\n",
       "    <tr style=\"text-align: right;\">\n",
       "      <th></th>\n",
       "      <th>pec</th>\n",
       "      <th>GDP Growth</th>\n",
       "    </tr>\n",
       "  </thead>\n",
       "  <tbody>\n",
       "    <tr>\n",
       "      <th>count</th>\n",
       "      <td>122.000000</td>\n",
       "      <td>122.000000</td>\n",
       "    </tr>\n",
       "    <tr>\n",
       "      <th>mean</th>\n",
       "      <td>2.003730</td>\n",
       "      <td>2.372566</td>\n",
       "    </tr>\n",
       "    <tr>\n",
       "      <th>std</th>\n",
       "      <td>0.447826</td>\n",
       "      <td>3.241424</td>\n",
       "    </tr>\n",
       "    <tr>\n",
       "      <th>min</th>\n",
       "      <td>1.192000</td>\n",
       "      <td>-18.000000</td>\n",
       "    </tr>\n",
       "    <tr>\n",
       "      <th>25%</th>\n",
       "      <td>1.684750</td>\n",
       "      <td>1.432250</td>\n",
       "    </tr>\n",
       "    <tr>\n",
       "      <th>50%</th>\n",
       "      <td>1.969000</td>\n",
       "      <td>2.496000</td>\n",
       "    </tr>\n",
       "    <tr>\n",
       "      <th>75%</th>\n",
       "      <td>2.280500</td>\n",
       "      <td>4.080000</td>\n",
       "    </tr>\n",
       "    <tr>\n",
       "      <th>max</th>\n",
       "      <td>3.399000</td>\n",
       "      <td>7.958000</td>\n",
       "    </tr>\n",
       "  </tbody>\n",
       "</table>\n",
       "</div>"
      ],
      "text/plain": [
       "              pec  GDP Growth\n",
       "count  122.000000  122.000000\n",
       "mean     2.003730    2.372566\n",
       "std      0.447826    3.241424\n",
       "min      1.192000  -18.000000\n",
       "25%      1.684750    1.432250\n",
       "50%      1.969000    2.496000\n",
       "75%      2.280500    4.080000\n",
       "max      3.399000    7.958000"
      ]
     },
     "execution_count": 5,
     "metadata": {},
     "output_type": "execute_result"
    }
   ],
   "source": [
    "cluster.describe()"
   ]
  },
  {
   "cell_type": "code",
   "execution_count": 6,
   "metadata": {},
   "outputs": [
    {
     "data": {
      "text/plain": [
       "Index(['Argentina', 'Armenia', 'Australia', 'Austria', 'Azerbaijan', 'Belgium',\n",
       "       'Brazil', 'Burundi', 'Canada', 'Chad', 'Chile', 'Colombia',\n",
       "       'Czech Republic', 'Democratic Republic of Congo', 'Denmark', 'Ecuador',\n",
       "       'El Salvador', 'Estonia', 'Finland', 'France', 'Gabon', 'Germany',\n",
       "       'Greece', 'Hungary', 'Italy', 'Jamaica', 'Japan', 'Jordan',\n",
       "       'Kazakhstan', 'Kuwait', 'Latvia', 'Lebanon', 'Liberia', 'Lithuania',\n",
       "       'Malawi', 'Mauritania', 'Mexico', 'Montenegro', 'Morocco', 'Nepal',\n",
       "       'Netherlands', 'Nigeria', 'Norway', 'Portugal', 'Russia',\n",
       "       'Saudi Arabia', 'Singapore', 'Slovenia', 'South Africa', 'Switzerland',\n",
       "       'Taiwan', 'The FYR of Macedonia', 'Trinidad and Tobago', 'Tunisia',\n",
       "       'Ukraine', 'United Kingdom', 'United States', 'Uruguay', 'Venezuela',\n",
       "       'Yemen', 'Zimbabwe'],\n",
       "      dtype='object', name='Country')"
      ]
     },
     "execution_count": 6,
     "metadata": {},
     "output_type": "execute_result"
    }
   ],
   "source": [
    "cluster1 = cluster[cluster['GDP Growth'] < 2.496000]\n",
    "cluster1.index"
   ]
  },
  {
   "cell_type": "code",
   "execution_count": 7,
   "metadata": {},
   "outputs": [
    {
     "data": {
      "text/plain": [
       "Index(['Albania', 'Bosnia and Herzegovina', 'Botswana', 'Bulgaria',\n",
       "       'Costa Rica', 'Croatia', 'Cyprus', 'Ghana', 'Iceland', 'Indonesia',\n",
       "       'Ireland', 'Korea (South)', 'Madagascar', 'Malaysia', 'Mauritius',\n",
       "       'Moldova', 'Mozambique', 'New Zealand', 'Panama', 'Poland', 'Qatar',\n",
       "       'Romania', 'Serbia', 'Sierra Leone', 'Slovakia', 'Spain', 'Sweden',\n",
       "       'Tanzania', 'United Arab Emirates', 'Vietnam', 'Zambia'],\n",
       "      dtype='object', name='Country')"
      ]
     },
     "execution_count": 7,
     "metadata": {},
     "output_type": "execute_result"
    }
   ],
   "source": [
    "cluster_temp = cluster[cluster['GDP Growth'] >= 2.496000]\n",
    "cluster2 = cluster_temp[cluster_temp.pec <1.969000]\n",
    "cluster2.index"
   ]
  },
  {
   "cell_type": "code",
   "execution_count": 8,
   "metadata": {},
   "outputs": [
    {
     "data": {
      "text/plain": [
       "Index(['Algeria', 'Bahrain', 'Bangladesh', 'Benin', 'Bolivia', 'Cameroon',\n",
       "       'China', 'Dominican Republic', 'Egypt', 'Ethiopia', 'Georgia',\n",
       "       'Guatemala', 'Honduras', 'India', 'Iran', 'Israel', 'Kenya', 'Mali',\n",
       "       'Nicaragua', 'Oman', 'Pakistan', 'Paraguay', 'Peru', 'Philippines',\n",
       "       'Rwanda', 'Senegal', 'Sri Lanka', 'Thailand', 'Turkey', 'Uganda'],\n",
       "      dtype='object', name='Country')"
      ]
     },
     "execution_count": 8,
     "metadata": {},
     "output_type": "execute_result"
    }
   ],
   "source": [
    "cluster3 = cluster_temp[cluster_temp.pec >=1.969000]\n",
    "cluster3.index"
   ]
  },
  {
   "cell_type": "code",
   "execution_count": 9,
   "metadata": {},
   "outputs": [],
   "source": [
    "def get_group(x):\n",
    "    if x in cluster1.index:\n",
    "        return (0)\n",
    "    elif x in cluster2.index:\n",
    "        return (1)\n",
    "    else:\n",
    "        return (2)\n",
    "sf['Label'] = sf.Country.apply(get_group)"
   ]
  },
  {
   "cell_type": "code",
   "execution_count": 10,
   "metadata": {},
   "outputs": [
    {
     "data": {
      "text/html": [
       "<div>\n",
       "<style scoped>\n",
       "    .dataframe tbody tr th:only-of-type {\n",
       "        vertical-align: middle;\n",
       "    }\n",
       "\n",
       "    .dataframe tbody tr th {\n",
       "        vertical-align: top;\n",
       "    }\n",
       "\n",
       "    .dataframe thead th {\n",
       "        text-align: right;\n",
       "    }\n",
       "</style>\n",
       "<table border=\"1\" class=\"dataframe\">\n",
       "  <thead>\n",
       "    <tr style=\"text-align: right;\">\n",
       "      <th></th>\n",
       "      <th>Country</th>\n",
       "      <th>Abbrev</th>\n",
       "      <th>Corruption</th>\n",
       "      <th>Peace</th>\n",
       "      <th>Legal</th>\n",
       "      <th>GDP Growth</th>\n",
       "      <th>Label</th>\n",
       "    </tr>\n",
       "  </thead>\n",
       "  <tbody>\n",
       "    <tr>\n",
       "      <th>0</th>\n",
       "      <td>Albania</td>\n",
       "      <td>AL</td>\n",
       "      <td>39</td>\n",
       "      <td>1.867</td>\n",
       "      <td>3.822</td>\n",
       "      <td>3.403</td>\n",
       "      <td>1</td>\n",
       "    </tr>\n",
       "    <tr>\n",
       "      <th>1</th>\n",
       "      <td>Algeria</td>\n",
       "      <td>DZ</td>\n",
       "      <td>34</td>\n",
       "      <td>2.213</td>\n",
       "      <td>4.160</td>\n",
       "      <td>4.202</td>\n",
       "      <td>2</td>\n",
       "    </tr>\n",
       "    <tr>\n",
       "      <th>2</th>\n",
       "      <td>Argentina</td>\n",
       "      <td>AR</td>\n",
       "      <td>36</td>\n",
       "      <td>1.957</td>\n",
       "      <td>4.568</td>\n",
       "      <td>-2.298</td>\n",
       "      <td>0</td>\n",
       "    </tr>\n",
       "    <tr>\n",
       "      <th>3</th>\n",
       "      <td>Armenia</td>\n",
       "      <td>AM</td>\n",
       "      <td>33</td>\n",
       "      <td>2.218</td>\n",
       "      <td>4.126</td>\n",
       "      <td>0.208</td>\n",
       "      <td>0</td>\n",
       "    </tr>\n",
       "    <tr>\n",
       "      <th>4</th>\n",
       "      <td>Australia</td>\n",
       "      <td>AU</td>\n",
       "      <td>79</td>\n",
       "      <td>1.465</td>\n",
       "      <td>8.244</td>\n",
       "      <td>2.471</td>\n",
       "      <td>0</td>\n",
       "    </tr>\n",
       "  </tbody>\n",
       "</table>\n",
       "</div>"
      ],
      "text/plain": [
       "     Country Abbrev  Corruption  Peace  Legal  GDP Growth  Label\n",
       "0    Albania     AL          39  1.867  3.822       3.403      1\n",
       "1    Algeria     DZ          34  2.213  4.160       4.202      2\n",
       "2  Argentina     AR          36  1.957  4.568      -2.298      0\n",
       "3    Armenia     AM          33  2.218  4.126       0.208      0\n",
       "4  Australia     AU          79  1.465  8.244       2.471      0"
      ]
     },
     "execution_count": 10,
     "metadata": {},
     "output_type": "execute_result"
    }
   ],
   "source": [
    "sf.head()"
   ]
  },
  {
   "cell_type": "code",
   "execution_count": 11,
   "metadata": {},
   "outputs": [
    {
     "data": {
      "text/html": [
       "<div>\n",
       "<style scoped>\n",
       "    .dataframe tbody tr th:only-of-type {\n",
       "        vertical-align: middle;\n",
       "    }\n",
       "\n",
       "    .dataframe tbody tr th {\n",
       "        vertical-align: top;\n",
       "    }\n",
       "\n",
       "    .dataframe thead th {\n",
       "        text-align: right;\n",
       "    }\n",
       "</style>\n",
       "<table border=\"1\" class=\"dataframe\">\n",
       "  <thead>\n",
       "    <tr style=\"text-align: right;\">\n",
       "      <th></th>\n",
       "      <th>Country</th>\n",
       "      <th>Abbrev</th>\n",
       "      <th>Corruption</th>\n",
       "      <th>Peace</th>\n",
       "      <th>Legal</th>\n",
       "      <th>GDP Growth</th>\n",
       "      <th>Label</th>\n",
       "    </tr>\n",
       "  </thead>\n",
       "  <tbody>\n",
       "    <tr>\n",
       "      <th>60</th>\n",
       "      <td>Lebanon</td>\n",
       "      <td>LB</td>\n",
       "      <td>28</td>\n",
       "      <td>2.752</td>\n",
       "      <td>4.331</td>\n",
       "      <td>1.000</td>\n",
       "      <td>0</td>\n",
       "    </tr>\n",
       "    <tr>\n",
       "      <th>74</th>\n",
       "      <td>Nepal</td>\n",
       "      <td>NP</td>\n",
       "      <td>29</td>\n",
       "      <td>2.026</td>\n",
       "      <td>4.941</td>\n",
       "      <td>0.561</td>\n",
       "      <td>0</td>\n",
       "    </tr>\n",
       "    <tr>\n",
       "      <th>72</th>\n",
       "      <td>Morocco</td>\n",
       "      <td>MA</td>\n",
       "      <td>37</td>\n",
       "      <td>2.086</td>\n",
       "      <td>5.500</td>\n",
       "      <td>1.487</td>\n",
       "      <td>0</td>\n",
       "    </tr>\n",
       "    <tr>\n",
       "      <th>71</th>\n",
       "      <td>Montenegro</td>\n",
       "      <td>ME</td>\n",
       "      <td>45</td>\n",
       "      <td>1.884</td>\n",
       "      <td>4.192</td>\n",
       "      <td>2.358</td>\n",
       "      <td>0</td>\n",
       "    </tr>\n",
       "    <tr>\n",
       "      <th>69</th>\n",
       "      <td>Mexico</td>\n",
       "      <td>MX</td>\n",
       "      <td>30</td>\n",
       "      <td>2.557</td>\n",
       "      <td>5.194</td>\n",
       "      <td>2.302</td>\n",
       "      <td>0</td>\n",
       "    </tr>\n",
       "    <tr>\n",
       "      <th>...</th>\n",
       "      <td>...</td>\n",
       "      <td>...</td>\n",
       "      <td>...</td>\n",
       "      <td>...</td>\n",
       "      <td>...</td>\n",
       "      <td>...</td>\n",
       "      <td>...</td>\n",
       "    </tr>\n",
       "    <tr>\n",
       "      <th>93</th>\n",
       "      <td>Senegal</td>\n",
       "      <td>SN</td>\n",
       "      <td>45</td>\n",
       "      <td>1.978</td>\n",
       "      <td>4.942</td>\n",
       "      <td>6.574</td>\n",
       "      <td>2</td>\n",
       "    </tr>\n",
       "    <tr>\n",
       "      <th>85</th>\n",
       "      <td>Philippines</td>\n",
       "      <td>PH</td>\n",
       "      <td>35</td>\n",
       "      <td>2.511</td>\n",
       "      <td>5.331</td>\n",
       "      <td>6.839</td>\n",
       "      <td>2</td>\n",
       "    </tr>\n",
       "    <tr>\n",
       "      <th>91</th>\n",
       "      <td>Rwanda</td>\n",
       "      <td>RW</td>\n",
       "      <td>54</td>\n",
       "      <td>2.323</td>\n",
       "      <td>6.508</td>\n",
       "      <td>5.932</td>\n",
       "      <td>2</td>\n",
       "    </tr>\n",
       "    <tr>\n",
       "      <th>106</th>\n",
       "      <td>Thailand</td>\n",
       "      <td>TJ</td>\n",
       "      <td>35</td>\n",
       "      <td>2.312</td>\n",
       "      <td>5.215</td>\n",
       "      <td>3.230</td>\n",
       "      <td>2</td>\n",
       "    </tr>\n",
       "    <tr>\n",
       "      <th>80</th>\n",
       "      <td>Oman</td>\n",
       "      <td>OM</td>\n",
       "      <td>45</td>\n",
       "      <td>2.016</td>\n",
       "      <td>6.280</td>\n",
       "      <td>3.057</td>\n",
       "      <td>2</td>\n",
       "    </tr>\n",
       "  </tbody>\n",
       "</table>\n",
       "<p>122 rows × 7 columns</p>\n",
       "</div>"
      ],
      "text/plain": [
       "         Country Abbrev  Corruption  Peace  Legal  GDP Growth  Label\n",
       "60       Lebanon     LB          28  2.752  4.331       1.000      0\n",
       "74         Nepal     NP          29  2.026  4.941       0.561      0\n",
       "72       Morocco     MA          37  2.086  5.500       1.487      0\n",
       "71    Montenegro     ME          45  1.884  4.192       2.358      0\n",
       "69        Mexico     MX          30  2.557  5.194       2.302      0\n",
       "..           ...    ...         ...    ...    ...         ...    ...\n",
       "93       Senegal     SN          45  1.978  4.942       6.574      2\n",
       "85   Philippines     PH          35  2.511  5.331       6.839      2\n",
       "91        Rwanda     RW          54  2.323  6.508       5.932      2\n",
       "106     Thailand     TJ          35  2.312  5.215       3.230      2\n",
       "80          Oman     OM          45  2.016  6.280       3.057      2\n",
       "\n",
       "[122 rows x 7 columns]"
      ]
     },
     "execution_count": 11,
     "metadata": {},
     "output_type": "execute_result"
    }
   ],
   "source": [
    "sf.sort_values('Label')"
   ]
  }
 ],
 "metadata": {
  "kernelspec": {
   "display_name": "Python 3",
   "language": "python",
   "name": "python3"
  },
  "language_info": {
   "codemirror_mode": {
    "name": "ipython",
    "version": 3
   },
   "file_extension": ".py",
   "mimetype": "text/x-python",
   "name": "python",
   "nbconvert_exporter": "python",
   "pygments_lexer": "ipython3",
   "version": "3.7.4"
  }
 },
 "nbformat": 4,
 "nbformat_minor": 4
}
